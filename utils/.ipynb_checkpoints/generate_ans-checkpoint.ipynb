{
 "cells": [
  {
   "cell_type": "code",
   "execution_count": 1,
   "id": "fd6619eb-7f22-4507-9615-7ff5d0d3ab8e",
   "metadata": {},
   "outputs": [],
   "source": [
    "from together import Together\n",
    "from rank_bm25 import BM25Okapi\n",
    "from retrieve_and_rerank import CrossEncoderRetriever"
   ]
  },
  {
   "cell_type": "code",
   "execution_count": 2,
   "id": "8774dbe5-2ed5-44e6-ba41-480e1fd5a982",
   "metadata": {},
   "outputs": [],
   "source": [
    "vector_store = None\n",
    "\n",
    "# TogetherAI API setup (Replace with API key)\n",
    "client = Together(api_key = '19d02f4dba59e2f0a1f8fc20f01cb28b783529206dd847ed5c0c5b83b14929f5')\n",
    "# client = Client( host='http://127.0.0.1:11434')"
   ]
  },
  {
   "cell_type": "code",
   "execution_count": 4,
   "id": "4fd8b30c-7857-4cea-8a3f-054eb1ea90d9",
   "metadata": {},
   "outputs": [],
   "source": [
    "# Endpoint to handle user queries\n",
    "def query_model(bm25: BM25Okapi, question: str = None):\n",
    "    global vector_store\n",
    "    # Retrieve relevant chunks\n",
    "    # docs = vector_store.similarity_search(question, k=5)\n",
    "    # context = \"\\n\".join([doc.page_content for doc in docs])\n",
    "\n",
    "    # Create the cross-encoder retriever\n",
    "    cross_encoder_retriever = CrossEncoderRetriever(\n",
    "        vectorstore= vector_store,\n",
    "        cross_encoder=cross_encoder,\n",
    "        bm25=bm25,\n",
    "        k=10,  # Retrieve 10 documents initially\n",
    "        rerank_top_k=10  # Return top 5 after reranking\n",
    "    )\n",
    "\n",
    "    reranked_docs = cross_encoder_retriever.get_relevant_documents(question)\n",
    "    reranked_context = \"\\n\".join([doc.page_content for doc in reranked_docs])  # Joining the content of the reranked docs\n",
    "\n",
    "    print(reranked_context)\n",
    "\n",
    "    response = client.chat.completions.create(\n",
    "    model=\"meta-llama/Llama-3.3-70B-Instruct-Turbo-Free\",\n",
    "    # model=\"Qwen/Qwen2.5-7B-Instruct-Turbo\",\n",
    "    # model=\"meta-llama/Meta-Llama-3-8B-Instruct-Turbo\",\n",
    "    messages = [\n",
    "        {\"role\": \"system\", \"content\": \"You are a highly skilled chatbot focused on understanding and interpreting legal judgments. Your task is to accurately analyze legal documents, extract relevant facts, and provide precise and clear legal answers based on the context provided. You should be able to recognize and handle legal synonyms or equivalent legal terms, ensuring that different expressions of the same concept are interpreted correctly.\"},\n",
    "        {\"role\": \"user\", \"content\": f\"Answer the following legal query based on the provided judgment document: {question}. Use only the information from the document below, and ensure you account for any legal synonyms or equivalent terms that may appear in the query. Provide an accurate response based solely on the document: {reranked_context}\"}\n",
    "    ],\n",
    "    temperature=0,\n",
    "    top_p=0,\n",
    "    top_k=1\n",
    "    )\n",
    "    \n",
    "    # print(response)\n",
    "    answer = response.choices[0].message.content if response.choices else \"No response.\"\n",
    "    return answer\n",
    "    "
   ]
  },
  {
   "cell_type": "code",
   "execution_count": 6,
   "id": "c6cb0c8a-2942-41c4-83f3-88aaacbadd5d",
   "metadata": {},
   "outputs": [
    {
     "name": "stderr",
     "output_type": "stream",
     "text": [
      "[NbConvertApp] Converting notebook generate_ans.ipynb to script\n",
      "[NbConvertApp] Writing 2454 bytes to generate_ans.py\n"
     ]
    }
   ],
   "source": [
    "!jupyter nbconvert --to script generate_ans.ipynb"
   ]
  }
 ],
 "metadata": {
  "kernelspec": {
   "display_name": "Python 3 (ipykernel)",
   "language": "python",
   "name": "python3"
  },
  "language_info": {
   "codemirror_mode": {
    "name": "ipython",
    "version": 3
   },
   "file_extension": ".py",
   "mimetype": "text/x-python",
   "name": "python",
   "nbconvert_exporter": "python",
   "pygments_lexer": "ipython3",
   "version": "3.12.7"
  }
 },
 "nbformat": 4,
 "nbformat_minor": 5
}
